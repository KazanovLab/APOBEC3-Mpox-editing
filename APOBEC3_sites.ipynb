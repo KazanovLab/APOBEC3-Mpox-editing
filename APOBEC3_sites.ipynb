{
 "cells": [
  {
   "cell_type": "code",
   "execution_count": 42,
   "id": "63097c05",
   "metadata": {},
   "outputs": [],
   "source": [
    "import pandas as pd\n",
    "import numpy as np\n",
    "from Bio import SeqIO\n",
    "from Bio.Seq import Seq\n",
    "from Bio.Data import CodonTable\n",
    "import matplotlib.pyplot as plt\n",
    "import seaborn as sns"
   ]
  },
  {
   "cell_type": "code",
   "execution_count": 43,
   "id": "081ea136",
   "metadata": {},
   "outputs": [
    {
     "name": "stdout",
     "output_type": "stream",
     "text": [
      "800\n"
     ]
    },
    {
     "data": {
      "text/html": [
       "<div>\n",
       "<style scoped>\n",
       "    .dataframe tbody tr th:only-of-type {\n",
       "        vertical-align: middle;\n",
       "    }\n",
       "\n",
       "    .dataframe tbody tr th {\n",
       "        vertical-align: top;\n",
       "    }\n",
       "\n",
       "    .dataframe thead th {\n",
       "        text-align: right;\n",
       "    }\n",
       "</style>\n",
       "<table border=\"1\" class=\"dataframe\">\n",
       "  <thead>\n",
       "    <tr style=\"text-align: right;\">\n",
       "      <th></th>\n",
       "      <th>site</th>\n",
       "      <th>gene</th>\n",
       "      <th>direction</th>\n",
       "      <th>snp</th>\n",
       "      <th>dimer</th>\n",
       "      <th>apobec</th>\n",
       "      <th>aa_position</th>\n",
       "      <th>parent</th>\n",
       "      <th>parent_codon</th>\n",
       "      <th>parent_aa</th>\n",
       "      <th>child</th>\n",
       "      <th>child_codon</th>\n",
       "      <th>child_aa</th>\n",
       "      <th>mutation_category</th>\n",
       "      <th>score</th>\n",
       "      <th>prediction</th>\n",
       "      <th>homoplasy</th>\n",
       "      <th>occurrence</th>\n",
       "    </tr>\n",
       "  </thead>\n",
       "  <tbody>\n",
       "    <tr>\n",
       "      <th>0</th>\n",
       "      <td>3111</td>\n",
       "      <td>OPG003_CDS_176</td>\n",
       "      <td>reverse</td>\n",
       "      <td>G-&gt;A</td>\n",
       "      <td>GA</td>\n",
       "      <td>True</td>\n",
       "      <td>2.0</td>\n",
       "      <td>Node1</td>\n",
       "      <td>TCC</td>\n",
       "      <td>S</td>\n",
       "      <td>Node2</td>\n",
       "      <td>TTC</td>\n",
       "      <td>F</td>\n",
       "      <td>nonsynonymous</td>\n",
       "      <td>155.0</td>\n",
       "      <td>radical</td>\n",
       "      <td>False</td>\n",
       "      <td>1</td>\n",
       "    </tr>\n",
       "    <tr>\n",
       "      <th>1</th>\n",
       "      <td>39139</td>\n",
       "      <td>OPG057_CDS_142</td>\n",
       "      <td>reverse</td>\n",
       "      <td>C-&gt;T</td>\n",
       "      <td>TC</td>\n",
       "      <td>True</td>\n",
       "      <td>3.0</td>\n",
       "      <td>Node1</td>\n",
       "      <td>GCG</td>\n",
       "      <td>A</td>\n",
       "      <td>Node2</td>\n",
       "      <td>GCA</td>\n",
       "      <td>A</td>\n",
       "      <td>synonymous</td>\n",
       "      <td>NaN</td>\n",
       "      <td>NaN</td>\n",
       "      <td>False</td>\n",
       "      <td>1</td>\n",
       "    </tr>\n",
       "    <tr>\n",
       "      <th>2</th>\n",
       "      <td>73239</td>\n",
       "      <td>OPG093_CDS_107</td>\n",
       "      <td>forward</td>\n",
       "      <td>G-&gt;A</td>\n",
       "      <td>GA</td>\n",
       "      <td>True</td>\n",
       "      <td>2.0</td>\n",
       "      <td>Node1</td>\n",
       "      <td>AGA</td>\n",
       "      <td>R</td>\n",
       "      <td>Node2</td>\n",
       "      <td>AAA</td>\n",
       "      <td>K</td>\n",
       "      <td>nonsynonymous</td>\n",
       "      <td>26.0</td>\n",
       "      <td>conservative</td>\n",
       "      <td>False</td>\n",
       "      <td>1</td>\n",
       "    </tr>\n",
       "    <tr>\n",
       "      <th>3</th>\n",
       "      <td>74205</td>\n",
       "      <td>OPG094_CDS_106</td>\n",
       "      <td>forward</td>\n",
       "      <td>G-&gt;A</td>\n",
       "      <td>GA</td>\n",
       "      <td>True</td>\n",
       "      <td>1.0</td>\n",
       "      <td>Node1</td>\n",
       "      <td>GAA</td>\n",
       "      <td>E</td>\n",
       "      <td>Node2</td>\n",
       "      <td>AAA</td>\n",
       "      <td>K</td>\n",
       "      <td>nonsynonymous</td>\n",
       "      <td>56.0</td>\n",
       "      <td>moderately conservative</td>\n",
       "      <td>False</td>\n",
       "      <td>1</td>\n",
       "    </tr>\n",
       "    <tr>\n",
       "      <th>4</th>\n",
       "      <td>77383</td>\n",
       "      <td>OPG098_CDS_102</td>\n",
       "      <td>forward</td>\n",
       "      <td>G-&gt;A</td>\n",
       "      <td>GA</td>\n",
       "      <td>True</td>\n",
       "      <td>2.0</td>\n",
       "      <td>Node1</td>\n",
       "      <td>TGA</td>\n",
       "      <td>*</td>\n",
       "      <td>Node2</td>\n",
       "      <td>TAA</td>\n",
       "      <td>*</td>\n",
       "      <td>synonymous</td>\n",
       "      <td>NaN</td>\n",
       "      <td>NaN</td>\n",
       "      <td>False</td>\n",
       "      <td>1</td>\n",
       "    </tr>\n",
       "  </tbody>\n",
       "</table>\n",
       "</div>"
      ],
      "text/plain": [
       "    site            gene direction   snp dimer  apobec  aa_position parent  \\\n",
       "0   3111  OPG003_CDS_176   reverse  G->A    GA    True          2.0  Node1   \n",
       "1  39139  OPG057_CDS_142   reverse  C->T    TC    True          3.0  Node1   \n",
       "2  73239  OPG093_CDS_107   forward  G->A    GA    True          2.0  Node1   \n",
       "3  74205  OPG094_CDS_106   forward  G->A    GA    True          1.0  Node1   \n",
       "4  77383  OPG098_CDS_102   forward  G->A    GA    True          2.0  Node1   \n",
       "\n",
       "  parent_codon parent_aa  child child_codon child_aa mutation_category  score  \\\n",
       "0          TCC         S  Node2         TTC        F     nonsynonymous  155.0   \n",
       "1          GCG         A  Node2         GCA        A        synonymous    NaN   \n",
       "2          AGA         R  Node2         AAA        K     nonsynonymous   26.0   \n",
       "3          GAA         E  Node2         AAA        K     nonsynonymous   56.0   \n",
       "4          TGA         *  Node2         TAA        *        synonymous    NaN   \n",
       "\n",
       "                prediction  homoplasy  occurrence  \n",
       "0                  radical      False           1  \n",
       "1                      NaN      False           1  \n",
       "2             conservative      False           1  \n",
       "3  moderately conservative      False           1  \n",
       "4                      NaN      False           1  "
      ]
     },
     "execution_count": 43,
     "metadata": {},
     "output_type": "execute_result"
    }
   ],
   "source": [
    "article_pos_file = \"data/B.1_2022-08-22.og.aln.pruned.tree.amino_acid.reconstruction.csv\"\n",
    "article_df = pd.read_csv(article_pos_file, sep=',')\n",
    "print(len(article_df))\n",
    "article_df.head()"
   ]
  },
  {
   "cell_type": "code",
   "execution_count": 44,
   "id": "c616a053",
   "metadata": {},
   "outputs": [
    {
     "data": {
      "text/plain": [
       "Index(['site', 'gene', 'direction', 'snp', 'dimer', 'apobec', 'aa_position',\n",
       "       'parent', 'parent_codon', 'parent_aa', 'child', 'child_codon',\n",
       "       'child_aa', 'mutation_category', 'score', 'prediction', 'homoplasy',\n",
       "       'occurrence'],\n",
       "      dtype='object')"
      ]
     },
     "execution_count": 44,
     "metadata": {},
     "output_type": "execute_result"
    }
   ],
   "source": [
    "article_df.columns"
   ]
  },
  {
   "cell_type": "code",
   "execution_count": 45,
   "id": "e93d2114",
   "metadata": {},
   "outputs": [
    {
     "data": {
      "text/html": [
       "<div>\n",
       "<style scoped>\n",
       "    .dataframe tbody tr th:only-of-type {\n",
       "        vertical-align: middle;\n",
       "    }\n",
       "\n",
       "    .dataframe tbody tr th {\n",
       "        vertical-align: top;\n",
       "    }\n",
       "\n",
       "    .dataframe thead th {\n",
       "        text-align: right;\n",
       "    }\n",
       "</style>\n",
       "<table border=\"1\" class=\"dataframe\">\n",
       "  <thead>\n",
       "    <tr style=\"text-align: right;\">\n",
       "      <th></th>\n",
       "      <th>site</th>\n",
       "      <th>gene</th>\n",
       "      <th>direction</th>\n",
       "      <th>REF</th>\n",
       "      <th>ALT</th>\n",
       "      <th>dimer</th>\n",
       "      <th>apobec</th>\n",
       "      <th>aa_position</th>\n",
       "      <th>parent</th>\n",
       "      <th>parent_codon</th>\n",
       "      <th>parent_aa</th>\n",
       "      <th>child</th>\n",
       "      <th>child_codon</th>\n",
       "      <th>child_aa</th>\n",
       "      <th>mutation_category</th>\n",
       "      <th>score</th>\n",
       "      <th>prediction</th>\n",
       "      <th>homoplasy</th>\n",
       "      <th>occurrence</th>\n",
       "    </tr>\n",
       "  </thead>\n",
       "  <tbody>\n",
       "    <tr>\n",
       "      <th>0</th>\n",
       "      <td>3111</td>\n",
       "      <td>OPG003_CDS_176</td>\n",
       "      <td>reverse</td>\n",
       "      <td>G</td>\n",
       "      <td>A</td>\n",
       "      <td>GA</td>\n",
       "      <td>True</td>\n",
       "      <td>2.0</td>\n",
       "      <td>Node1</td>\n",
       "      <td>TCC</td>\n",
       "      <td>S</td>\n",
       "      <td>Node2</td>\n",
       "      <td>TTC</td>\n",
       "      <td>F</td>\n",
       "      <td>nonsynonymous</td>\n",
       "      <td>155.0</td>\n",
       "      <td>radical</td>\n",
       "      <td>False</td>\n",
       "      <td>1</td>\n",
       "    </tr>\n",
       "    <tr>\n",
       "      <th>1</th>\n",
       "      <td>39139</td>\n",
       "      <td>OPG057_CDS_142</td>\n",
       "      <td>reverse</td>\n",
       "      <td>C</td>\n",
       "      <td>T</td>\n",
       "      <td>TC</td>\n",
       "      <td>True</td>\n",
       "      <td>3.0</td>\n",
       "      <td>Node1</td>\n",
       "      <td>GCG</td>\n",
       "      <td>A</td>\n",
       "      <td>Node2</td>\n",
       "      <td>GCA</td>\n",
       "      <td>A</td>\n",
       "      <td>synonymous</td>\n",
       "      <td>NaN</td>\n",
       "      <td>NaN</td>\n",
       "      <td>False</td>\n",
       "      <td>1</td>\n",
       "    </tr>\n",
       "    <tr>\n",
       "      <th>2</th>\n",
       "      <td>73239</td>\n",
       "      <td>OPG093_CDS_107</td>\n",
       "      <td>forward</td>\n",
       "      <td>G</td>\n",
       "      <td>A</td>\n",
       "      <td>GA</td>\n",
       "      <td>True</td>\n",
       "      <td>2.0</td>\n",
       "      <td>Node1</td>\n",
       "      <td>AGA</td>\n",
       "      <td>R</td>\n",
       "      <td>Node2</td>\n",
       "      <td>AAA</td>\n",
       "      <td>K</td>\n",
       "      <td>nonsynonymous</td>\n",
       "      <td>26.0</td>\n",
       "      <td>conservative</td>\n",
       "      <td>False</td>\n",
       "      <td>1</td>\n",
       "    </tr>\n",
       "    <tr>\n",
       "      <th>3</th>\n",
       "      <td>74205</td>\n",
       "      <td>OPG094_CDS_106</td>\n",
       "      <td>forward</td>\n",
       "      <td>G</td>\n",
       "      <td>A</td>\n",
       "      <td>GA</td>\n",
       "      <td>True</td>\n",
       "      <td>1.0</td>\n",
       "      <td>Node1</td>\n",
       "      <td>GAA</td>\n",
       "      <td>E</td>\n",
       "      <td>Node2</td>\n",
       "      <td>AAA</td>\n",
       "      <td>K</td>\n",
       "      <td>nonsynonymous</td>\n",
       "      <td>56.0</td>\n",
       "      <td>moderately conservative</td>\n",
       "      <td>False</td>\n",
       "      <td>1</td>\n",
       "    </tr>\n",
       "    <tr>\n",
       "      <th>4</th>\n",
       "      <td>77383</td>\n",
       "      <td>OPG098_CDS_102</td>\n",
       "      <td>forward</td>\n",
       "      <td>G</td>\n",
       "      <td>A</td>\n",
       "      <td>GA</td>\n",
       "      <td>True</td>\n",
       "      <td>2.0</td>\n",
       "      <td>Node1</td>\n",
       "      <td>TGA</td>\n",
       "      <td>*</td>\n",
       "      <td>Node2</td>\n",
       "      <td>TAA</td>\n",
       "      <td>*</td>\n",
       "      <td>synonymous</td>\n",
       "      <td>NaN</td>\n",
       "      <td>NaN</td>\n",
       "      <td>False</td>\n",
       "      <td>1</td>\n",
       "    </tr>\n",
       "  </tbody>\n",
       "</table>\n",
       "</div>"
      ],
      "text/plain": [
       "    site            gene direction REF ALT dimer  apobec  aa_position parent  \\\n",
       "0   3111  OPG003_CDS_176   reverse   G   A    GA    True          2.0  Node1   \n",
       "1  39139  OPG057_CDS_142   reverse   C   T    TC    True          3.0  Node1   \n",
       "2  73239  OPG093_CDS_107   forward   G   A    GA    True          2.0  Node1   \n",
       "3  74205  OPG094_CDS_106   forward   G   A    GA    True          1.0  Node1   \n",
       "4  77383  OPG098_CDS_102   forward   G   A    GA    True          2.0  Node1   \n",
       "\n",
       "  parent_codon parent_aa  child child_codon child_aa mutation_category  score  \\\n",
       "0          TCC         S  Node2         TTC        F     nonsynonymous  155.0   \n",
       "1          GCG         A  Node2         GCA        A        synonymous    NaN   \n",
       "2          AGA         R  Node2         AAA        K     nonsynonymous   26.0   \n",
       "3          GAA         E  Node2         AAA        K     nonsynonymous   56.0   \n",
       "4          TGA         *  Node2         TAA        *        synonymous    NaN   \n",
       "\n",
       "                prediction  homoplasy  occurrence  \n",
       "0                  radical      False           1  \n",
       "1                      NaN      False           1  \n",
       "2             conservative      False           1  \n",
       "3  moderately conservative      False           1  \n",
       "4                      NaN      False           1  "
      ]
     },
     "execution_count": 45,
     "metadata": {},
     "output_type": "execute_result"
    }
   ],
   "source": [
    "article_df['REF'] = article_df.apply(lambda row: row['snp'].split('->')[0], axis = 1)\n",
    "article_df['ALT'] = article_df.apply(lambda row: row['snp'].split('->')[1], axis = 1)\n",
    "article_df = article_df[['site', 'gene', 'direction', 'REF', \"ALT\", 'dimer', 'apobec', 'aa_position',\n",
    "       'parent', 'parent_codon', 'parent_aa', 'child', 'child_codon',\n",
    "       'child_aa', 'mutation_category', 'score', 'prediction', 'homoplasy',\n",
    "       'occurrence']]\n",
    "article_df.head()"
   ]
  },
  {
   "cell_type": "markdown",
   "id": "d5fbe87a",
   "metadata": {},
   "source": [
    "Searching for amino acids in positions"
   ]
  },
  {
   "cell_type": "code",
   "execution_count": 46,
   "id": "b7265889",
   "metadata": {},
   "outputs": [],
   "source": [
    "def load_genome(fasta_file):\n",
    "    \"\"\"Load the genome from a FASTA file.\"\"\"\n",
    "    genome = SeqIO.to_dict(SeqIO.parse(fasta_file, \"fasta\"))\n",
    "    new_genome = genome[\"NC_063383.1\"].seq\n",
    "    return new_genome\n",
    "\n",
    "def load_gtf(gtf_file):\n",
    "    \"\"\"Load the GTF file into a pandas DataFrame.\"\"\"\n",
    "    gtf_columns = [\"seqname\", \"source\", \"feature\", \"start\", \"end\", \"score\", \"strand\", \"frame\", \"attribute\"]\n",
    "    gtf = pd.read_csv(gtf_file, sep=\"\\t\", comment='#', header=None, names=gtf_columns)\n",
    "    return gtf\n",
    "\n",
    "def find_node_genome(genome, parent, table=article_df):\n",
    "    parent_filter_df = table[table['child']==parent]\n",
    "    parent_filter_df = parent_filter_df.reset_index(drop=True)\n",
    "    new_parent = parent_filter_df.loc[0, \"parent\"]\n",
    "    sites_list = parent_filter_df.site.tolist()\n",
    "    \n",
    "    if new_parent == \"Node1\":\n",
    "        new_genome = list(genome)\n",
    "        for row in range(0, len(parent_filter_df)):\n",
    "            position = parent_filter_df.loc[row, \"site\"]\n",
    "            alt_nucl = parent_filter_df.loc[row, \"ALT\"]\n",
    "            new_genome[position-1] = alt_nucl\n",
    "        return Seq(''.join(new_genome))\n",
    "    else:\n",
    "        new_genome = list(genome)\n",
    "        for row in range(0, len(parent_filter_df)):\n",
    "            position = parent_filter_df.loc[row, \"site\"]\n",
    "            alt_nucl = parent_filter_df.loc[row, \"ALT\"]\n",
    "            new_genome[position-1] = alt_nucl\n",
    "        return find_node_genome(new_genome, new_parent)\n",
    "\n",
    "    \n",
    "def get_cds(gtf, chromosome, position):\n",
    "    \"\"\"Find the CDS where the mutation is located.\"\"\"\n",
    "    cds_rows = gtf[(gtf['seqname'] == chromosome) & \n",
    "                   (gtf['feature'] == 'CDS') & \n",
    "                   (gtf['start'] <= position) & \n",
    "                   (gtf['end'] >= position)]\n",
    "    return cds_rows\n",
    "\n",
    "def translate_codon(codon):\n",
    "    \"\"\"Translate a codon to its corresponding amino acid.\"\"\"\n",
    "    return str(Seq(codon).translate(table=CodonTable.unambiguous_dna_by_id[11]))\n",
    "\n",
    "def detect_mutation_impact(genome, gtf, chromosome, position, ref, alt, gene_name):\n",
    "    \"\"\"Detect the amino acid change caused by a mutation.\"\"\"\n",
    "    cds = get_cds(gtf, chromosome, position)\n",
    "    \n",
    "    if cds.empty:\n",
    "        ref_nucl = genome[position-1]\n",
    "        return '-', '-', '-', '-', ref_nucl, '-'\n",
    "    \n",
    "    row_id = 0\n",
    "    for row in range(0, len(cds)):\n",
    "        info = cds.iloc[row]['attribute'].split(';')\n",
    "        for x in info:\n",
    "            if x.startswith(\"gene=\"):\n",
    "                gene = x.split(\"=\")[1]\n",
    "                if gene == gene_name:\n",
    "                    row_id = row\n",
    "    \n",
    "    strand = cds.iloc[row_id]['strand']\n",
    "    gene_start = cds.iloc[row_id]['start']\n",
    "    \n",
    "    # Calculate the codon position\n",
    "    codon_start = gene_start + ((position - gene_start) // 3) * 3\n",
    "    \n",
    "    # Extract the codon\n",
    "    codon_seq = genome[codon_start-1:codon_start+2]\n",
    "    if strand == '-':\n",
    "        codon_seq = codon_seq.reverse_complement()\n",
    "        alt = str(Seq(alt).reverse_complement())\n",
    "    \n",
    "    # Translate the original codon\n",
    "    original_amino_acid = translate_codon(codon_seq)\n",
    "    \n",
    "    # Create the mutated codon\n",
    "    mutation_index = (position - codon_start) % 3\n",
    "    if strand == '-':\n",
    "        if mutation_index == 0:\n",
    "            mutation_index = 2\n",
    "        elif mutation_index == 2:\n",
    "            mutation_index = 0\n",
    "\n",
    "    mutated_codon = list(codon_seq)\n",
    "    mutated_codon[mutation_index] = alt\n",
    "    mutated_codon = Seq(''.join(mutated_codon))\n",
    "    \n",
    "    # Translate the mutated codon\n",
    "    mutated_amino_acid = translate_codon(mutated_codon)\n",
    "    \n",
    "    ref_nucl = genome[position-1]\n",
    "    pos = mutation_index+1\n",
    "    \n",
    "    return original_amino_acid, mutated_amino_acid, codon_seq, mutated_codon, ref_nucl, pos"
   ]
  },
  {
   "cell_type": "code",
   "execution_count": 47,
   "id": "0addc80b",
   "metadata": {},
   "outputs": [
    {
     "name": "stdout",
     "output_type": "stream",
     "text": [
      "800\n"
     ]
    }
   ],
   "source": [
    "genome = load_genome(\"data/MPOX_genome/NC_063383.1.fasta\")\n",
    "gtf = load_gtf(\"data/MPOX_genome/GCF_014621545.1_ASM1462154v1_genomic.220824.gff\")\n",
    "chromosome = \"NC_063383.1\"\n",
    "\n",
    "original_aa_list = []\n",
    "mutated_aa_list = []\n",
    "original_codon_list = []\n",
    "mutated_codon_list = []\n",
    "ref_nucl_list = []\n",
    "nucl_pos_list = []\n",
    "mutation_category = []\n",
    "\n",
    "\n",
    "for row in range(0, len(article_df)):\n",
    "    position = article_df.loc[row, \"site\"] \n",
    "    ref_nucl = article_df.loc[row, \"REF\"]\n",
    "    alt_nucl = article_df.loc[row, \"ALT\"]\n",
    "    gene = article_df.loc[row, \"gene\"]\n",
    "    if gene is not np.nan:\n",
    "        gene = gene.split('_')[0]\n",
    "    node = article_df.loc[row, \"parent\"]\n",
    "    \n",
    "    if node == \"Node1\":\n",
    "        original_aa, mutated_aa, original_codon, mutated_codon, ref, nucl_pos = detect_mutation_impact(genome, gtf, chromosome, position, ref_nucl, alt_nucl, gene)\n",
    "    else:  \n",
    "        new_genome = find_node_genome(genome, node)\n",
    "        original_aa, mutated_aa, original_codon, mutated_codon, ref, nucl_pos = detect_mutation_impact(new_genome, gtf, chromosome, position, ref_nucl, alt_nucl, gene)\n",
    "    \n",
    "    # CDS empty\n",
    "    if original_aa == \"-\":\n",
    "        mutation_category.append(\"intergenic\")\n",
    "        original_aa_list.append('-')\n",
    "        mutated_aa_list.append('-')\n",
    "        original_codon_list.append('-')\n",
    "        mutated_codon_list.append('-')\n",
    "        nucl_pos_list.append('-')\n",
    "        ref_nucl_list.append(ref)\n",
    "    else:\n",
    "        original_aa_list.append(original_aa)\n",
    "        mutated_aa_list.append(mutated_aa)\n",
    "        original_codon_list.append(str(original_codon))\n",
    "        mutated_codon_list.append(str(mutated_codon))\n",
    "        ref_nucl_list.append(ref)\n",
    "        nucl_pos_list.append(nucl_pos)\n",
    "\n",
    "        if mutated_aa == original_aa:\n",
    "            mutation_category.append(\"synonymous\")\n",
    "        elif mutated_aa == \"*\":\n",
    "            mutation_category.append(\"nonsense\")\n",
    "        else:\n",
    "            mutation_category.append(\"nonsynonymous\")\n",
    "            \n",
    "article_df[\"REF_v2\"] = ref_nucl_list\n",
    "article_df[\"aa_position_FIXED\"] = nucl_pos_list\n",
    "article_df[\"parent_codon_FIXED\"] = original_codon_list\n",
    "article_df[\"parent_aa_FIXED\"] = original_aa_list\n",
    "article_df[\"child_codon_FIXED\"] = mutated_codon_list\n",
    "article_df[\"child_aa_FIXED\"] = mutated_aa_list\n",
    "article_df[\"mutation_category_FIXED\"] = mutation_category\n",
    "print(len(article_df))\n",
    "article_df.head()\n",
    "article_df.to_csv(\"data/B1_data_fixed.csv\", sep='\\t', index=False)"
   ]
  },
  {
   "cell_type": "code",
   "execution_count": 48,
   "id": "b2ce08e3",
   "metadata": {},
   "outputs": [
    {
     "name": "stdout",
     "output_type": "stream",
     "text": [
      "does not match to reference:  2\n"
     ]
    },
    {
     "data": {
      "text/html": [
       "<div>\n",
       "<style scoped>\n",
       "    .dataframe tbody tr th:only-of-type {\n",
       "        vertical-align: middle;\n",
       "    }\n",
       "\n",
       "    .dataframe tbody tr th {\n",
       "        vertical-align: top;\n",
       "    }\n",
       "\n",
       "    .dataframe thead th {\n",
       "        text-align: right;\n",
       "    }\n",
       "</style>\n",
       "<table border=\"1\" class=\"dataframe\">\n",
       "  <thead>\n",
       "    <tr style=\"text-align: right;\">\n",
       "      <th></th>\n",
       "      <th>site</th>\n",
       "      <th>gene</th>\n",
       "      <th>direction</th>\n",
       "      <th>REF</th>\n",
       "      <th>ALT</th>\n",
       "      <th>dimer</th>\n",
       "      <th>apobec</th>\n",
       "      <th>aa_position</th>\n",
       "      <th>parent</th>\n",
       "      <th>parent_codon</th>\n",
       "      <th>...</th>\n",
       "      <th>homoplasy</th>\n",
       "      <th>occurrence</th>\n",
       "      <th>REF_v2</th>\n",
       "      <th>aa_position_FIXED</th>\n",
       "      <th>parent_codon_FIXED</th>\n",
       "      <th>parent_aa_FIXED</th>\n",
       "      <th>child_codon_FIXED</th>\n",
       "      <th>child_aa_FIXED</th>\n",
       "      <th>mutation_category_FIXED</th>\n",
       "      <th>new_col</th>\n",
       "    </tr>\n",
       "  </thead>\n",
       "  <tbody>\n",
       "    <tr>\n",
       "      <th>268</th>\n",
       "      <td>168120</td>\n",
       "      <td>OPG193_CDS_17</td>\n",
       "      <td>forward</td>\n",
       "      <td>T</td>\n",
       "      <td>C</td>\n",
       "      <td>NaN</td>\n",
       "      <td>False</td>\n",
       "      <td>2.0</td>\n",
       "      <td>Node386</td>\n",
       "      <td>TTT</td>\n",
       "      <td>...</td>\n",
       "      <td>False</td>\n",
       "      <td>1</td>\n",
       "      <td>C</td>\n",
       "      <td>1</td>\n",
       "      <td>CTT</td>\n",
       "      <td>L</td>\n",
       "      <td>CTT</td>\n",
       "      <td>L</td>\n",
       "      <td>synonymous</td>\n",
       "      <td>-</td>\n",
       "    </tr>\n",
       "    <tr>\n",
       "      <th>423</th>\n",
       "      <td>81977</td>\n",
       "      <td>OPG105_CDS_95</td>\n",
       "      <td>forward</td>\n",
       "      <td>G</td>\n",
       "      <td>A</td>\n",
       "      <td>GA</td>\n",
       "      <td>True</td>\n",
       "      <td>1.0</td>\n",
       "      <td>Node561</td>\n",
       "      <td>GAC</td>\n",
       "      <td>...</td>\n",
       "      <td>False</td>\n",
       "      <td>1</td>\n",
       "      <td>A</td>\n",
       "      <td>3</td>\n",
       "      <td>CAA</td>\n",
       "      <td>Q</td>\n",
       "      <td>CAA</td>\n",
       "      <td>Q</td>\n",
       "      <td>synonymous</td>\n",
       "      <td>-</td>\n",
       "    </tr>\n",
       "  </tbody>\n",
       "</table>\n",
       "<p>2 rows × 27 columns</p>\n",
       "</div>"
      ],
      "text/plain": [
       "       site           gene direction REF ALT dimer  apobec  aa_position  \\\n",
       "268  168120  OPG193_CDS_17   forward   T   C   NaN   False          2.0   \n",
       "423   81977  OPG105_CDS_95   forward   G   A    GA    True          1.0   \n",
       "\n",
       "      parent parent_codon  ... homoplasy occurrence REF_v2 aa_position_FIXED  \\\n",
       "268  Node386          TTT  ...     False          1      C                 1   \n",
       "423  Node561          GAC  ...     False          1      A                 3   \n",
       "\n",
       "    parent_codon_FIXED  parent_aa_FIXED child_codon_FIXED  child_aa_FIXED  \\\n",
       "268                CTT                L               CTT               L   \n",
       "423                CAA                Q               CAA               Q   \n",
       "\n",
       "     mutation_category_FIXED new_col  \n",
       "268               synonymous       -  \n",
       "423               synonymous       -  \n",
       "\n",
       "[2 rows x 27 columns]"
      ]
     },
     "execution_count": 48,
     "metadata": {},
     "output_type": "execute_result"
    }
   ],
   "source": [
    "new_col = []\n",
    "for row in range(0, len(article_df)):\n",
    "    if article_df.loc[row, \"REF\"] != article_df.loc[row, \"REF_v2\"]:\n",
    "        new_col.append('-')\n",
    "    else:\n",
    "        new_col.append(\"+\")\n",
    "article_df[\"new_col\"] = new_col\n",
    "print('does not match to reference: ', len(article_df[article_df['new_col']=='-']))\n",
    "article_df[article_df['new_col']=='-']"
   ]
  },
  {
   "cell_type": "code",
   "execution_count": 49,
   "id": "2628f884",
   "metadata": {},
   "outputs": [],
   "source": [
    "#filter only C->T and G->A mutations\n",
    "df1_new1 = article_df[(article_df['REF_v2']==\"G\") & (article_df['ALT']==\"A\")]\n",
    "df1_new2 = article_df[(article_df['REF_v2']==\"C\") & (article_df['ALT']==\"T\")]\n",
    "df1_new = pd.concat([df1_new1, df1_new2])\n",
    "df1_new = df1_new.reset_index(drop=True)"
   ]
  },
  {
   "cell_type": "code",
   "execution_count": 50,
   "id": "97e0b6e8",
   "metadata": {},
   "outputs": [],
   "source": [
    "#filter TC and GA motifs\n",
    "def load_genome(fasta_file):\n",
    "    \"\"\"Load the genome from a FASTA file.\"\"\"\n",
    "    genome = SeqIO.to_dict(SeqIO.parse(fasta_file, \"fasta\"))\n",
    "    new_genome = genome[\"NC_063383.1\"].seq\n",
    "    return str(new_genome)\n",
    "\n",
    "def find_node_genome(genome, parent, table=article_df):\n",
    "    parent_filter_df = table[table['child']==parent]\n",
    "    parent_filter_df = parent_filter_df.reset_index(drop=True)\n",
    "    new_parent = parent_filter_df.loc[0, \"parent\"]\n",
    "    sites_list = parent_filter_df.site.tolist()\n",
    "    \n",
    "    if new_parent == \"Node1\":\n",
    "        new_genome = list(genome)\n",
    "        for row in range(0, len(parent_filter_df)):\n",
    "            position = parent_filter_df.loc[row, \"site\"]\n",
    "            alt_nucl = parent_filter_df.loc[row, \"ALT\"]\n",
    "            new_genome[position-1] = alt_nucl\n",
    "        return Seq(''.join(new_genome))\n",
    "    else:\n",
    "        new_genome = list(genome)\n",
    "        for row in range(0, len(parent_filter_df)):\n",
    "            position = parent_filter_df.loc[row, \"site\"]\n",
    "            alt_nucl = parent_filter_df.loc[row, \"ALT\"]\n",
    "            new_genome[position-1] = alt_nucl\n",
    "        return find_node_genome(new_genome, new_parent)"
   ]
  },
  {
   "cell_type": "code",
   "execution_count": 51,
   "id": "1897770b",
   "metadata": {},
   "outputs": [
    {
     "name": "stdout",
     "output_type": "stream",
     "text": [
      "641\n"
     ]
    }
   ],
   "source": [
    "genome = load_genome(\"data/MPOX_genome/NC_063383.1.fasta\")\n",
    "motifs = []\n",
    "for row in range(0, len(df1_new)):\n",
    "    pos = df1_new.loc[row, 'site']\n",
    "    ref = df1_new.loc[row, 'REF']\n",
    "    node = df1_new.loc[row, 'parent']\n",
    "    if node != \"Node1\":\n",
    "        new_genome = find_node_genome(genome, node)\n",
    "        if ref == \"C\":\n",
    "            motifs.append(new_genome[pos-2:pos])\n",
    "        else:\n",
    "            motifs.append(new_genome[pos-1:pos+1])\n",
    "    else:\n",
    "        if ref == \"C\":\n",
    "            motifs.append(genome[pos-2:pos])\n",
    "        else:\n",
    "            motifs.append(genome[pos-1:pos+1])\n",
    "\n",
    "df1_new['motif'] = motifs\n",
    "\n",
    "df1_new1 = df1_new[df1_new['motif'] == 'GA']\n",
    "df1_new2 = df1_new[df1_new['motif'] == 'TC']\n",
    "df1_new = pd.concat([df1_new1, df1_new2])\n",
    "print(len(df1_new))"
   ]
  },
  {
   "cell_type": "code",
   "execution_count": 52,
   "id": "5565595c",
   "metadata": {},
   "outputs": [
    {
     "data": {
      "text/plain": [
       "631"
      ]
     },
     "execution_count": 52,
     "metadata": {},
     "output_type": "execute_result"
    }
   ],
   "source": [
    "#filter Node1\n",
    "df1_new = df1_new[df1_new['parent'] != 'Node1']\n",
    "df1_new = df1_new.reset_index(drop=True)\n",
    "len(df1_new)"
   ]
  },
  {
   "cell_type": "markdown",
   "id": "c9a3cc7a",
   "metadata": {},
   "source": [
    "Searching for APOBEC3 targets in MPOX genome"
   ]
  },
  {
   "cell_type": "code",
   "execution_count": 53,
   "id": "9f224c0a",
   "metadata": {},
   "outputs": [],
   "source": [
    "import re\n",
    "\n",
    "## genome file\n",
    "genome_file = open(\"data/MPOX_genome/NC_063383.1.fasta\")\n",
    "genome_dict = SeqIO.to_dict(SeqIO.parse(genome_file, \"fasta\"))\n",
    "\n",
    "## find coordinates of potential targets with motif in sample\n",
    "## output: list with potential targets in the genome for sample\n",
    "def find_potential_targets(signature='TC', genome=str(genome_dict['NC_063383.1'].seq)):\n",
    "    signature_complement = str(Seq(signature).reverse_complement())\n",
    "    \n",
    "    #genome start with 0, write position for indexing from 1 \n",
    "    targets_coordinates_TC = [i.start()+2 for i in re.finditer(signature, genome, flags=0)]\n",
    "    targets_coordinates_GA = [i.start()+1 for i in re.finditer(signature_complement, genome, flags=0)]\n",
    "    REF = ['C']*len(targets_coordinates_TC) + ['G']*len(targets_coordinates_GA)\n",
    "    ALT = ['T']*len(targets_coordinates_TC) + ['A']*len(targets_coordinates_GA)\n",
    "    \n",
    "    data = {'#CHROM': [\"NC_063383.1\"]*len(REF),\n",
    "        'position': targets_coordinates_TC+targets_coordinates_GA, \n",
    "        \"REF\": REF,\n",
    "        \"ALT\": ALT}\n",
    "        \n",
    "    df = pd.DataFrame(data)\n",
    "    return df\n",
    "\n",
    "\n",
    "\n",
    "## find amino acids\n",
    "def load_genome(fasta_file):\n",
    "    \"\"\"Load the genome from a FASTA file.\"\"\"\n",
    "    genome = SeqIO.to_dict(SeqIO.parse(fasta_file, \"fasta\"))\n",
    "    return genome\n",
    "\n",
    "def load_gtf(gtf_file):\n",
    "    \"\"\"Load the GTF file into a pandas DataFrame.\"\"\"\n",
    "    gtf_columns = [\"seqname\", \"source\", \"feature\", \"start\", \"end\", \"score\", \"strand\", \"frame\", \"attribute\"]\n",
    "    gtf = pd.read_csv(gtf_file, sep=\"\\t\", comment='#', header=None, names=gtf_columns)\n",
    "    return gtf\n",
    "\n",
    "def get_cds(gtf, chromosome, position):\n",
    "    \"\"\"Find the CDS where the mutation is located.\"\"\"\n",
    "    cds_rows = gtf[(gtf['seqname'] == chromosome) & \n",
    "                   (gtf['feature'] == 'CDS') & \n",
    "                   (gtf['start'] <= position) & \n",
    "                   (gtf['end'] >= position)]\n",
    "    return cds_rows\n",
    "\n",
    "def translate_codon(codon):\n",
    "    \"\"\"Translate a codon to its corresponding amino acid.\"\"\"\n",
    "    return str(Seq(codon).translate(table=CodonTable.unambiguous_dna_by_id[11]))\n",
    "\n",
    "def detect_mutation_impact(genome, gtf, chromosome, position, ref_allele, alt_allele):\n",
    "    \"\"\"Detect the amino acid change caused by a mutation.\"\"\"\n",
    "    cds = get_cds(gtf, chromosome, position)\n",
    "    \n",
    "    if cds.empty:\n",
    "        return \"No CDS found at this position.\"\n",
    "    \n",
    "    strand = cds.iloc[0]['strand']\n",
    "        \n",
    "    gene_start = cds.iloc[0]['start']\n",
    "    \n",
    "    # Calculate the codon position\n",
    "    codon_start = gene_start + ((position - gene_start) // 3) * 3\n",
    "    \n",
    "    # Extract the codon\n",
    "    codon_seq = genome[chromosome].seq[codon_start-1:codon_start+2]\n",
    "    if strand == '-':\n",
    "        codon_seq = codon_seq.reverse_complement()\n",
    "        alt_allele = str(Seq(alt_allele).reverse_complement())\n",
    "    \n",
    "    # Translate the original codon\n",
    "    original_amino_acid = translate_codon(codon_seq)\n",
    "    \n",
    "    # Create the mutated codon\n",
    "    mutation_index = (position - codon_start) % 3\n",
    "    if strand == '-':\n",
    "        if mutation_index == 0:\n",
    "            mutation_index = 2\n",
    "        elif mutation_index == 2:\n",
    "            mutation_index = 0\n",
    "\n",
    "    mutated_codon = list(codon_seq)\n",
    "    mutated_codon[mutation_index] = alt_allele\n",
    "    mutated_codon = Seq(''.join(mutated_codon))\n",
    "    \n",
    "    # Translate the mutated codon\n",
    "    mutated_amino_acid = translate_codon(mutated_codon)\n",
    "    \n",
    "    \n",
    "    return original_amino_acid, mutated_amino_acid, codon_seq, mutated_codon, mutation_index+1"
   ]
  },
  {
   "cell_type": "code",
   "execution_count": 54,
   "id": "c3ae8ae8",
   "metadata": {},
   "outputs": [
    {
     "data": {
      "text/html": [
       "<div>\n",
       "<style scoped>\n",
       "    .dataframe tbody tr th:only-of-type {\n",
       "        vertical-align: middle;\n",
       "    }\n",
       "\n",
       "    .dataframe tbody tr th {\n",
       "        vertical-align: top;\n",
       "    }\n",
       "\n",
       "    .dataframe thead th {\n",
       "        text-align: right;\n",
       "    }\n",
       "</style>\n",
       "<table border=\"1\" class=\"dataframe\">\n",
       "  <thead>\n",
       "    <tr style=\"text-align: right;\">\n",
       "      <th></th>\n",
       "      <th>#CHROM</th>\n",
       "      <th>position</th>\n",
       "      <th>REF</th>\n",
       "      <th>ALT</th>\n",
       "      <th>aa_position</th>\n",
       "      <th>parent_codon</th>\n",
       "      <th>parent_aa</th>\n",
       "      <th>child_codon</th>\n",
       "      <th>child_aa</th>\n",
       "      <th>mutation_category</th>\n",
       "    </tr>\n",
       "  </thead>\n",
       "  <tbody>\n",
       "    <tr>\n",
       "      <th>0</th>\n",
       "      <td>NC_063383.1</td>\n",
       "      <td>23</td>\n",
       "      <td>C</td>\n",
       "      <td>T</td>\n",
       "      <td>-</td>\n",
       "      <td>-</td>\n",
       "      <td>-</td>\n",
       "      <td>-</td>\n",
       "      <td>-</td>\n",
       "      <td>intergenic</td>\n",
       "    </tr>\n",
       "    <tr>\n",
       "      <th>1</th>\n",
       "      <td>NC_063383.1</td>\n",
       "      <td>60</td>\n",
       "      <td>C</td>\n",
       "      <td>T</td>\n",
       "      <td>-</td>\n",
       "      <td>-</td>\n",
       "      <td>-</td>\n",
       "      <td>-</td>\n",
       "      <td>-</td>\n",
       "      <td>intergenic</td>\n",
       "    </tr>\n",
       "    <tr>\n",
       "      <th>2</th>\n",
       "      <td>NC_063383.1</td>\n",
       "      <td>78</td>\n",
       "      <td>C</td>\n",
       "      <td>T</td>\n",
       "      <td>-</td>\n",
       "      <td>-</td>\n",
       "      <td>-</td>\n",
       "      <td>-</td>\n",
       "      <td>-</td>\n",
       "      <td>intergenic</td>\n",
       "    </tr>\n",
       "    <tr>\n",
       "      <th>3</th>\n",
       "      <td>NC_063383.1</td>\n",
       "      <td>82</td>\n",
       "      <td>C</td>\n",
       "      <td>T</td>\n",
       "      <td>-</td>\n",
       "      <td>-</td>\n",
       "      <td>-</td>\n",
       "      <td>-</td>\n",
       "      <td>-</td>\n",
       "      <td>intergenic</td>\n",
       "    </tr>\n",
       "    <tr>\n",
       "      <th>4</th>\n",
       "      <td>NC_063383.1</td>\n",
       "      <td>98</td>\n",
       "      <td>C</td>\n",
       "      <td>T</td>\n",
       "      <td>-</td>\n",
       "      <td>-</td>\n",
       "      <td>-</td>\n",
       "      <td>-</td>\n",
       "      <td>-</td>\n",
       "      <td>intergenic</td>\n",
       "    </tr>\n",
       "  </tbody>\n",
       "</table>\n",
       "</div>"
      ],
      "text/plain": [
       "        #CHROM  position REF ALT aa_position parent_codon parent_aa  \\\n",
       "0  NC_063383.1        23   C   T           -            -         -   \n",
       "1  NC_063383.1        60   C   T           -            -         -   \n",
       "2  NC_063383.1        78   C   T           -            -         -   \n",
       "3  NC_063383.1        82   C   T           -            -         -   \n",
       "4  NC_063383.1        98   C   T           -            -         -   \n",
       "\n",
       "  child_codon child_aa mutation_category  \n",
       "0           -        -        intergenic  \n",
       "1           -        -        intergenic  \n",
       "2           -        -        intergenic  \n",
       "3           -        -        intergenic  \n",
       "4           -        -        intergenic  "
      ]
     },
     "execution_count": 54,
     "metadata": {},
     "output_type": "execute_result"
    }
   ],
   "source": [
    "## create dataframe with potential APOBEC targets\n",
    "df_targets = find_potential_targets()\n",
    "\n",
    "## find amino acids\n",
    "genome = load_genome(\"data/MPOX_genome/NC_063383.1.fasta\")\n",
    "gtf = load_gtf(\"data/MPOX_genome/GCF_014621545.1_ASM1462154v1_genomic.220824.gff\")\n",
    "chromosome = \"NC_063383.1\"\n",
    "\n",
    "\n",
    "original_aa_list = []\n",
    "mutated_aa_list = []\n",
    "original_codon_list = []\n",
    "mutated_codon_list = []\n",
    "nucl_pos_list = []\n",
    "mutation_category = []\n",
    "for row in range(0, len(df_targets)):\n",
    "    position = df_targets.loc[row, \"position\"]\n",
    "    ref_allele = df_targets.loc[row, \"REF\"]\n",
    "    alt_allele = df_targets.loc[row, \"ALT\"]\n",
    "    \n",
    "    try:\n",
    "        original_aa, mutated_aa, original_codon, mutated_codon, nucl_pos = detect_mutation_impact(genome, gtf, chromosome, position, ref_allele, alt_allele)\n",
    "    except:\n",
    "        mutation_category.append(\"intergenic\")\n",
    "        original_aa_list.append('-')\n",
    "        mutated_aa_list.append('-')\n",
    "        original_codon_list.append('-')\n",
    "        mutated_codon_list.append('-')\n",
    "        nucl_pos_list.append('-')\n",
    "    else:\n",
    "        original_aa_list.append(original_aa)\n",
    "        mutated_aa_list.append(mutated_aa)\n",
    "        original_codon_list.append(original_codon)\n",
    "        mutated_codon_list.append(mutated_codon)\n",
    "        nucl_pos_list.append(nucl_pos)\n",
    "        if mutated_aa == original_aa:\n",
    "            mutation_category.append(\"synonymous\")\n",
    "        elif mutated_aa == \"*\":\n",
    "            mutation_category.append(\"nonsense\")\n",
    "        else:\n",
    "            mutation_category.append(\"nonsynonymous\")\n",
    "\n",
    "\n",
    "df_targets[\"aa_position\"] = nucl_pos_list\n",
    "df_targets[\"parent_codon\"] = original_codon_list\n",
    "df_targets[\"parent_aa\"] = original_aa_list\n",
    "df_targets[\"child_codon\"] = mutated_codon_list\n",
    "df_targets[\"child_aa\"] = mutated_aa_list\n",
    "df_targets[\"mutation_category\"] = mutation_category\n",
    "df_targets.head()"
   ]
  },
  {
   "cell_type": "markdown",
   "id": "d5e11405",
   "metadata": {},
   "source": [
    "Saving tables"
   ]
  },
  {
   "cell_type": "code",
   "execution_count": 55,
   "id": "ac3a6525",
   "metadata": {},
   "outputs": [],
   "source": [
    "df_targets.to_csv(\"data/APOBEC_targets_aa.csv\", sep=\"\\t\", index=False)"
   ]
  },
  {
   "cell_type": "code",
   "execution_count": 56,
   "id": "12a48591",
   "metadata": {},
   "outputs": [
    {
     "data": {
      "text/html": [
       "<div>\n",
       "<style scoped>\n",
       "    .dataframe tbody tr th:only-of-type {\n",
       "        vertical-align: middle;\n",
       "    }\n",
       "\n",
       "    .dataframe tbody tr th {\n",
       "        vertical-align: top;\n",
       "    }\n",
       "\n",
       "    .dataframe thead th {\n",
       "        text-align: right;\n",
       "    }\n",
       "</style>\n",
       "<table border=\"1\" class=\"dataframe\">\n",
       "  <thead>\n",
       "    <tr style=\"text-align: right;\">\n",
       "      <th></th>\n",
       "      <th>#CHROM</th>\n",
       "      <th>site</th>\n",
       "      <th>REF_v2</th>\n",
       "      <th>ALT</th>\n",
       "      <th>aa_position_FIXED</th>\n",
       "      <th>parent_codon_FIXED</th>\n",
       "      <th>parent_aa_FIXED</th>\n",
       "      <th>child_codon_FIXED</th>\n",
       "      <th>child_aa_FIXED</th>\n",
       "      <th>mutation_category_FIXED</th>\n",
       "    </tr>\n",
       "  </thead>\n",
       "  <tbody>\n",
       "    <tr>\n",
       "      <th>0</th>\n",
       "      <td>NC_063383.1</td>\n",
       "      <td>186165</td>\n",
       "      <td>G</td>\n",
       "      <td>A</td>\n",
       "      <td>1</td>\n",
       "      <td>GAT</td>\n",
       "      <td>D</td>\n",
       "      <td>AAT</td>\n",
       "      <td>N</td>\n",
       "      <td>nonsynonymous</td>\n",
       "    </tr>\n",
       "    <tr>\n",
       "      <th>1</th>\n",
       "      <td>NC_063383.1</td>\n",
       "      <td>55133</td>\n",
       "      <td>G</td>\n",
       "      <td>A</td>\n",
       "      <td>1</td>\n",
       "      <td>CGT</td>\n",
       "      <td>R</td>\n",
       "      <td>TGT</td>\n",
       "      <td>C</td>\n",
       "      <td>nonsynonymous</td>\n",
       "    </tr>\n",
       "    <tr>\n",
       "      <th>2</th>\n",
       "      <td>NC_063383.1</td>\n",
       "      <td>55133</td>\n",
       "      <td>G</td>\n",
       "      <td>A</td>\n",
       "      <td>1</td>\n",
       "      <td>CGT</td>\n",
       "      <td>R</td>\n",
       "      <td>TGT</td>\n",
       "      <td>C</td>\n",
       "      <td>nonsynonymous</td>\n",
       "    </tr>\n",
       "    <tr>\n",
       "      <th>3</th>\n",
       "      <td>NC_063383.1</td>\n",
       "      <td>55133</td>\n",
       "      <td>G</td>\n",
       "      <td>A</td>\n",
       "      <td>1</td>\n",
       "      <td>CGT</td>\n",
       "      <td>R</td>\n",
       "      <td>TGT</td>\n",
       "      <td>C</td>\n",
       "      <td>nonsynonymous</td>\n",
       "    </tr>\n",
       "    <tr>\n",
       "      <th>4</th>\n",
       "      <td>NC_063383.1</td>\n",
       "      <td>55133</td>\n",
       "      <td>G</td>\n",
       "      <td>A</td>\n",
       "      <td>3</td>\n",
       "      <td>CTC</td>\n",
       "      <td>L</td>\n",
       "      <td>CTT</td>\n",
       "      <td>L</td>\n",
       "      <td>synonymous</td>\n",
       "    </tr>\n",
       "  </tbody>\n",
       "</table>\n",
       "</div>"
      ],
      "text/plain": [
       "        #CHROM    site REF_v2 ALT aa_position_FIXED parent_codon_FIXED  \\\n",
       "0  NC_063383.1  186165      G   A                 1                GAT   \n",
       "1  NC_063383.1   55133      G   A                 1                CGT   \n",
       "2  NC_063383.1   55133      G   A                 1                CGT   \n",
       "3  NC_063383.1   55133      G   A                 1                CGT   \n",
       "4  NC_063383.1   55133      G   A                 3                CTC   \n",
       "\n",
       "  parent_aa_FIXED child_codon_FIXED child_aa_FIXED mutation_category_FIXED  \n",
       "0               D               AAT              N           nonsynonymous  \n",
       "1               R               TGT              C           nonsynonymous  \n",
       "2               R               TGT              C           nonsynonymous  \n",
       "3               R               TGT              C           nonsynonymous  \n",
       "4               L               CTT              L              synonymous  "
      ]
     },
     "execution_count": 56,
     "metadata": {},
     "output_type": "execute_result"
    }
   ],
   "source": [
    "df1_new['#CHROM'] = \"NC_063383.1\"\n",
    "df1_new = df1_new[['#CHROM', 'site', 'REF_v2', 'ALT', 'aa_position_FIXED', 'parent_codon_FIXED', 'parent_aa_FIXED','child_codon_FIXED','child_aa_FIXED','mutation_category_FIXED']]\n",
    "df1_new.head()"
   ]
  },
  {
   "cell_type": "code",
   "execution_count": 57,
   "id": "a2f29db7",
   "metadata": {},
   "outputs": [
    {
     "data": {
      "text/html": [
       "<div>\n",
       "<style scoped>\n",
       "    .dataframe tbody tr th:only-of-type {\n",
       "        vertical-align: middle;\n",
       "    }\n",
       "\n",
       "    .dataframe tbody tr th {\n",
       "        vertical-align: top;\n",
       "    }\n",
       "\n",
       "    .dataframe thead th {\n",
       "        text-align: right;\n",
       "    }\n",
       "</style>\n",
       "<table border=\"1\" class=\"dataframe\">\n",
       "  <thead>\n",
       "    <tr style=\"text-align: right;\">\n",
       "      <th></th>\n",
       "      <th>#CHROM</th>\n",
       "      <th>position</th>\n",
       "      <th>REF</th>\n",
       "      <th>ALT</th>\n",
       "      <th>aa_position</th>\n",
       "      <th>parent_codon</th>\n",
       "      <th>parent_aa</th>\n",
       "      <th>child_codon</th>\n",
       "      <th>child_aa</th>\n",
       "      <th>mutation_category</th>\n",
       "    </tr>\n",
       "  </thead>\n",
       "  <tbody>\n",
       "    <tr>\n",
       "      <th>0</th>\n",
       "      <td>NC_063383.1</td>\n",
       "      <td>186165</td>\n",
       "      <td>G</td>\n",
       "      <td>A</td>\n",
       "      <td>1</td>\n",
       "      <td>GAT</td>\n",
       "      <td>D</td>\n",
       "      <td>AAT</td>\n",
       "      <td>N</td>\n",
       "      <td>nonsynonymous</td>\n",
       "    </tr>\n",
       "    <tr>\n",
       "      <th>1</th>\n",
       "      <td>NC_063383.1</td>\n",
       "      <td>55133</td>\n",
       "      <td>G</td>\n",
       "      <td>A</td>\n",
       "      <td>1</td>\n",
       "      <td>CGT</td>\n",
       "      <td>R</td>\n",
       "      <td>TGT</td>\n",
       "      <td>C</td>\n",
       "      <td>nonsynonymous</td>\n",
       "    </tr>\n",
       "    <tr>\n",
       "      <th>2</th>\n",
       "      <td>NC_063383.1</td>\n",
       "      <td>55133</td>\n",
       "      <td>G</td>\n",
       "      <td>A</td>\n",
       "      <td>1</td>\n",
       "      <td>CGT</td>\n",
       "      <td>R</td>\n",
       "      <td>TGT</td>\n",
       "      <td>C</td>\n",
       "      <td>nonsynonymous</td>\n",
       "    </tr>\n",
       "    <tr>\n",
       "      <th>3</th>\n",
       "      <td>NC_063383.1</td>\n",
       "      <td>55133</td>\n",
       "      <td>G</td>\n",
       "      <td>A</td>\n",
       "      <td>1</td>\n",
       "      <td>CGT</td>\n",
       "      <td>R</td>\n",
       "      <td>TGT</td>\n",
       "      <td>C</td>\n",
       "      <td>nonsynonymous</td>\n",
       "    </tr>\n",
       "    <tr>\n",
       "      <th>4</th>\n",
       "      <td>NC_063383.1</td>\n",
       "      <td>55133</td>\n",
       "      <td>G</td>\n",
       "      <td>A</td>\n",
       "      <td>3</td>\n",
       "      <td>CTC</td>\n",
       "      <td>L</td>\n",
       "      <td>CTT</td>\n",
       "      <td>L</td>\n",
       "      <td>synonymous</td>\n",
       "    </tr>\n",
       "  </tbody>\n",
       "</table>\n",
       "</div>"
      ],
      "text/plain": [
       "        #CHROM  position REF ALT aa_position parent_codon parent_aa  \\\n",
       "0  NC_063383.1    186165   G   A           1          GAT         D   \n",
       "1  NC_063383.1     55133   G   A           1          CGT         R   \n",
       "2  NC_063383.1     55133   G   A           1          CGT         R   \n",
       "3  NC_063383.1     55133   G   A           1          CGT         R   \n",
       "4  NC_063383.1     55133   G   A           3          CTC         L   \n",
       "\n",
       "  child_codon child_aa mutation_category  \n",
       "0         AAT        N     nonsynonymous  \n",
       "1         TGT        C     nonsynonymous  \n",
       "2         TGT        C     nonsynonymous  \n",
       "3         TGT        C     nonsynonymous  \n",
       "4         CTT        L        synonymous  "
      ]
     },
     "execution_count": 57,
     "metadata": {},
     "output_type": "execute_result"
    }
   ],
   "source": [
    "df1_new.columns = df_targets.columns\n",
    "df1_new.head()"
   ]
  },
  {
   "cell_type": "code",
   "execution_count": 58,
   "id": "c81e67c5",
   "metadata": {},
   "outputs": [],
   "source": [
    "df1_new.to_csv(\"data/B1_data_fixed_APOBEC.csv\", sep='\\t', index=False)"
   ]
  },
  {
   "cell_type": "markdown",
   "id": "36e5f58f",
   "metadata": {},
   "source": [
    "Amino acids hypothetical changes"
   ]
  },
  {
   "cell_type": "code",
   "execution_count": 1,
   "id": "db105448",
   "metadata": {},
   "outputs": [],
   "source": [
    "from dash import Dash, dcc, html, Input, Output\n",
    "import plotly.graph_objects as go\n",
    "import json, urllib\n",
    "import pandas as pd"
   ]
  },
  {
   "cell_type": "code",
   "execution_count": 2,
   "id": "3bd78216",
   "metadata": {},
   "outputs": [
    {
     "data": {
      "application/vnd.plotly.v1+json": {
       "config": {
        "plotlyServerURL": "https://plot.ly"
       },
       "data": [
        {
         "link": {
          "color": [
           "#3D405B",
           "#F2CC8F",
           "#F2CC8F",
           "#F2CC8F",
           "#C6878F",
           "#F2CC8F",
           "#E07A5F",
           "#F2CC8F",
           "#F2CC8F",
           "#F2CC8F",
           "#F2CC8F",
           "#E07A5F",
           "#3D405B",
           "#F2CC8F",
           "#F2CC8F",
           "#5F797B"
          ],
          "source": [
           0,
           1,
           2,
           0,
           3,
           4,
           0,
           5,
           6,
           0,
           0,
           7,
           7,
           8,
           9,
           10
          ],
          "target": [
           11,
           12,
           13,
           14,
           15,
           14,
           16,
           17,
           18,
           19,
           20,
           13,
           21,
           22,
           20,
           23
          ],
          "value": [
           1,
           4,
           4,
           4,
           5,
           5,
           7,
           8,
           13,
           13,
           26,
           32,
           49,
           75,
           77,
           179
          ]
         },
         "node": {
          "color": "#81B29A",
          "label": [
           "R",
           "H",
           "L",
           "G",
           "Q",
           "P",
           "M",
           "S",
           "D",
           "E",
           "=",
           "W",
           "Y",
           "F",
           "*",
           "E",
           "C",
           "S",
           "I",
           "Q",
           "K",
           "L",
           "N",
           "="
          ],
          "line": {
           "color": "black",
           "width": 0.5
          },
          "pad": 20,
          "thickness": 30
         },
         "type": "sankey"
        }
       ],
       "layout": {
        "font": {
         "color": "black",
         "family": "Arial",
         "size": 18
        },
        "height": 1000,
        "template": {
         "data": {
          "bar": [
           {
            "error_x": {
             "color": "#2a3f5f"
            },
            "error_y": {
             "color": "#2a3f5f"
            },
            "marker": {
             "line": {
              "color": "#E5ECF6",
              "width": 0.5
             },
             "pattern": {
              "fillmode": "overlay",
              "size": 10,
              "solidity": 0.2
             }
            },
            "type": "bar"
           }
          ],
          "barpolar": [
           {
            "marker": {
             "line": {
              "color": "#E5ECF6",
              "width": 0.5
             },
             "pattern": {
              "fillmode": "overlay",
              "size": 10,
              "solidity": 0.2
             }
            },
            "type": "barpolar"
           }
          ],
          "carpet": [
           {
            "aaxis": {
             "endlinecolor": "#2a3f5f",
             "gridcolor": "white",
             "linecolor": "white",
             "minorgridcolor": "white",
             "startlinecolor": "#2a3f5f"
            },
            "baxis": {
             "endlinecolor": "#2a3f5f",
             "gridcolor": "white",
             "linecolor": "white",
             "minorgridcolor": "white",
             "startlinecolor": "#2a3f5f"
            },
            "type": "carpet"
           }
          ],
          "choropleth": [
           {
            "colorbar": {
             "outlinewidth": 0,
             "ticks": ""
            },
            "type": "choropleth"
           }
          ],
          "contour": [
           {
            "colorbar": {
             "outlinewidth": 0,
             "ticks": ""
            },
            "colorscale": [
             [
              0,
              "#0d0887"
             ],
             [
              0.1111111111111111,
              "#46039f"
             ],
             [
              0.2222222222222222,
              "#7201a8"
             ],
             [
              0.3333333333333333,
              "#9c179e"
             ],
             [
              0.4444444444444444,
              "#bd3786"
             ],
             [
              0.5555555555555556,
              "#d8576b"
             ],
             [
              0.6666666666666666,
              "#ed7953"
             ],
             [
              0.7777777777777778,
              "#fb9f3a"
             ],
             [
              0.8888888888888888,
              "#fdca26"
             ],
             [
              1,
              "#f0f921"
             ]
            ],
            "type": "contour"
           }
          ],
          "contourcarpet": [
           {
            "colorbar": {
             "outlinewidth": 0,
             "ticks": ""
            },
            "type": "contourcarpet"
           }
          ],
          "heatmap": [
           {
            "colorbar": {
             "outlinewidth": 0,
             "ticks": ""
            },
            "colorscale": [
             [
              0,
              "#0d0887"
             ],
             [
              0.1111111111111111,
              "#46039f"
             ],
             [
              0.2222222222222222,
              "#7201a8"
             ],
             [
              0.3333333333333333,
              "#9c179e"
             ],
             [
              0.4444444444444444,
              "#bd3786"
             ],
             [
              0.5555555555555556,
              "#d8576b"
             ],
             [
              0.6666666666666666,
              "#ed7953"
             ],
             [
              0.7777777777777778,
              "#fb9f3a"
             ],
             [
              0.8888888888888888,
              "#fdca26"
             ],
             [
              1,
              "#f0f921"
             ]
            ],
            "type": "heatmap"
           }
          ],
          "heatmapgl": [
           {
            "colorbar": {
             "outlinewidth": 0,
             "ticks": ""
            },
            "colorscale": [
             [
              0,
              "#0d0887"
             ],
             [
              0.1111111111111111,
              "#46039f"
             ],
             [
              0.2222222222222222,
              "#7201a8"
             ],
             [
              0.3333333333333333,
              "#9c179e"
             ],
             [
              0.4444444444444444,
              "#bd3786"
             ],
             [
              0.5555555555555556,
              "#d8576b"
             ],
             [
              0.6666666666666666,
              "#ed7953"
             ],
             [
              0.7777777777777778,
              "#fb9f3a"
             ],
             [
              0.8888888888888888,
              "#fdca26"
             ],
             [
              1,
              "#f0f921"
             ]
            ],
            "type": "heatmapgl"
           }
          ],
          "histogram": [
           {
            "marker": {
             "pattern": {
              "fillmode": "overlay",
              "size": 10,
              "solidity": 0.2
             }
            },
            "type": "histogram"
           }
          ],
          "histogram2d": [
           {
            "colorbar": {
             "outlinewidth": 0,
             "ticks": ""
            },
            "colorscale": [
             [
              0,
              "#0d0887"
             ],
             [
              0.1111111111111111,
              "#46039f"
             ],
             [
              0.2222222222222222,
              "#7201a8"
             ],
             [
              0.3333333333333333,
              "#9c179e"
             ],
             [
              0.4444444444444444,
              "#bd3786"
             ],
             [
              0.5555555555555556,
              "#d8576b"
             ],
             [
              0.6666666666666666,
              "#ed7953"
             ],
             [
              0.7777777777777778,
              "#fb9f3a"
             ],
             [
              0.8888888888888888,
              "#fdca26"
             ],
             [
              1,
              "#f0f921"
             ]
            ],
            "type": "histogram2d"
           }
          ],
          "histogram2dcontour": [
           {
            "colorbar": {
             "outlinewidth": 0,
             "ticks": ""
            },
            "colorscale": [
             [
              0,
              "#0d0887"
             ],
             [
              0.1111111111111111,
              "#46039f"
             ],
             [
              0.2222222222222222,
              "#7201a8"
             ],
             [
              0.3333333333333333,
              "#9c179e"
             ],
             [
              0.4444444444444444,
              "#bd3786"
             ],
             [
              0.5555555555555556,
              "#d8576b"
             ],
             [
              0.6666666666666666,
              "#ed7953"
             ],
             [
              0.7777777777777778,
              "#fb9f3a"
             ],
             [
              0.8888888888888888,
              "#fdca26"
             ],
             [
              1,
              "#f0f921"
             ]
            ],
            "type": "histogram2dcontour"
           }
          ],
          "mesh3d": [
           {
            "colorbar": {
             "outlinewidth": 0,
             "ticks": ""
            },
            "type": "mesh3d"
           }
          ],
          "parcoords": [
           {
            "line": {
             "colorbar": {
              "outlinewidth": 0,
              "ticks": ""
             }
            },
            "type": "parcoords"
           }
          ],
          "pie": [
           {
            "automargin": true,
            "type": "pie"
           }
          ],
          "scatter": [
           {
            "fillpattern": {
             "fillmode": "overlay",
             "size": 10,
             "solidity": 0.2
            },
            "type": "scatter"
           }
          ],
          "scatter3d": [
           {
            "line": {
             "colorbar": {
              "outlinewidth": 0,
              "ticks": ""
             }
            },
            "marker": {
             "colorbar": {
              "outlinewidth": 0,
              "ticks": ""
             }
            },
            "type": "scatter3d"
           }
          ],
          "scattercarpet": [
           {
            "marker": {
             "colorbar": {
              "outlinewidth": 0,
              "ticks": ""
             }
            },
            "type": "scattercarpet"
           }
          ],
          "scattergeo": [
           {
            "marker": {
             "colorbar": {
              "outlinewidth": 0,
              "ticks": ""
             }
            },
            "type": "scattergeo"
           }
          ],
          "scattergl": [
           {
            "marker": {
             "colorbar": {
              "outlinewidth": 0,
              "ticks": ""
             }
            },
            "type": "scattergl"
           }
          ],
          "scattermapbox": [
           {
            "marker": {
             "colorbar": {
              "outlinewidth": 0,
              "ticks": ""
             }
            },
            "type": "scattermapbox"
           }
          ],
          "scatterpolar": [
           {
            "marker": {
             "colorbar": {
              "outlinewidth": 0,
              "ticks": ""
             }
            },
            "type": "scatterpolar"
           }
          ],
          "scatterpolargl": [
           {
            "marker": {
             "colorbar": {
              "outlinewidth": 0,
              "ticks": ""
             }
            },
            "type": "scatterpolargl"
           }
          ],
          "scatterternary": [
           {
            "marker": {
             "colorbar": {
              "outlinewidth": 0,
              "ticks": ""
             }
            },
            "type": "scatterternary"
           }
          ],
          "surface": [
           {
            "colorbar": {
             "outlinewidth": 0,
             "ticks": ""
            },
            "colorscale": [
             [
              0,
              "#0d0887"
             ],
             [
              0.1111111111111111,
              "#46039f"
             ],
             [
              0.2222222222222222,
              "#7201a8"
             ],
             [
              0.3333333333333333,
              "#9c179e"
             ],
             [
              0.4444444444444444,
              "#bd3786"
             ],
             [
              0.5555555555555556,
              "#d8576b"
             ],
             [
              0.6666666666666666,
              "#ed7953"
             ],
             [
              0.7777777777777778,
              "#fb9f3a"
             ],
             [
              0.8888888888888888,
              "#fdca26"
             ],
             [
              1,
              "#f0f921"
             ]
            ],
            "type": "surface"
           }
          ],
          "table": [
           {
            "cells": {
             "fill": {
              "color": "#EBF0F8"
             },
             "line": {
              "color": "white"
             }
            },
            "header": {
             "fill": {
              "color": "#C8D4E3"
             },
             "line": {
              "color": "white"
             }
            },
            "type": "table"
           }
          ]
         },
         "layout": {
          "annotationdefaults": {
           "arrowcolor": "#2a3f5f",
           "arrowhead": 0,
           "arrowwidth": 1
          },
          "autotypenumbers": "strict",
          "coloraxis": {
           "colorbar": {
            "outlinewidth": 0,
            "ticks": ""
           }
          },
          "colorscale": {
           "diverging": [
            [
             0,
             "#8e0152"
            ],
            [
             0.1,
             "#c51b7d"
            ],
            [
             0.2,
             "#de77ae"
            ],
            [
             0.3,
             "#f1b6da"
            ],
            [
             0.4,
             "#fde0ef"
            ],
            [
             0.5,
             "#f7f7f7"
            ],
            [
             0.6,
             "#e6f5d0"
            ],
            [
             0.7,
             "#b8e186"
            ],
            [
             0.8,
             "#7fbc41"
            ],
            [
             0.9,
             "#4d9221"
            ],
            [
             1,
             "#276419"
            ]
           ],
           "sequential": [
            [
             0,
             "#0d0887"
            ],
            [
             0.1111111111111111,
             "#46039f"
            ],
            [
             0.2222222222222222,
             "#7201a8"
            ],
            [
             0.3333333333333333,
             "#9c179e"
            ],
            [
             0.4444444444444444,
             "#bd3786"
            ],
            [
             0.5555555555555556,
             "#d8576b"
            ],
            [
             0.6666666666666666,
             "#ed7953"
            ],
            [
             0.7777777777777778,
             "#fb9f3a"
            ],
            [
             0.8888888888888888,
             "#fdca26"
            ],
            [
             1,
             "#f0f921"
            ]
           ],
           "sequentialminus": [
            [
             0,
             "#0d0887"
            ],
            [
             0.1111111111111111,
             "#46039f"
            ],
            [
             0.2222222222222222,
             "#7201a8"
            ],
            [
             0.3333333333333333,
             "#9c179e"
            ],
            [
             0.4444444444444444,
             "#bd3786"
            ],
            [
             0.5555555555555556,
             "#d8576b"
            ],
            [
             0.6666666666666666,
             "#ed7953"
            ],
            [
             0.7777777777777778,
             "#fb9f3a"
            ],
            [
             0.8888888888888888,
             "#fdca26"
            ],
            [
             1,
             "#f0f921"
            ]
           ]
          },
          "colorway": [
           "#636efa",
           "#EF553B",
           "#00cc96",
           "#ab63fa",
           "#FFA15A",
           "#19d3f3",
           "#FF6692",
           "#B6E880",
           "#FF97FF",
           "#FECB52"
          ],
          "font": {
           "color": "#2a3f5f"
          },
          "geo": {
           "bgcolor": "white",
           "lakecolor": "white",
           "landcolor": "#E5ECF6",
           "showlakes": true,
           "showland": true,
           "subunitcolor": "white"
          },
          "hoverlabel": {
           "align": "left"
          },
          "hovermode": "closest",
          "mapbox": {
           "style": "light"
          },
          "paper_bgcolor": "white",
          "plot_bgcolor": "#E5ECF6",
          "polar": {
           "angularaxis": {
            "gridcolor": "white",
            "linecolor": "white",
            "ticks": ""
           },
           "bgcolor": "#E5ECF6",
           "radialaxis": {
            "gridcolor": "white",
            "linecolor": "white",
            "ticks": ""
           }
          },
          "scene": {
           "xaxis": {
            "backgroundcolor": "#E5ECF6",
            "gridcolor": "white",
            "gridwidth": 2,
            "linecolor": "white",
            "showbackground": true,
            "ticks": "",
            "zerolinecolor": "white"
           },
           "yaxis": {
            "backgroundcolor": "#E5ECF6",
            "gridcolor": "white",
            "gridwidth": 2,
            "linecolor": "white",
            "showbackground": true,
            "ticks": "",
            "zerolinecolor": "white"
           },
           "zaxis": {
            "backgroundcolor": "#E5ECF6",
            "gridcolor": "white",
            "gridwidth": 2,
            "linecolor": "white",
            "showbackground": true,
            "ticks": "",
            "zerolinecolor": "white"
           }
          },
          "shapedefaults": {
           "line": {
            "color": "#2a3f5f"
           }
          },
          "ternary": {
           "aaxis": {
            "gridcolor": "white",
            "linecolor": "white",
            "ticks": ""
           },
           "baxis": {
            "gridcolor": "white",
            "linecolor": "white",
            "ticks": ""
           },
           "bgcolor": "#E5ECF6",
           "caxis": {
            "gridcolor": "white",
            "linecolor": "white",
            "ticks": ""
           }
          },
          "title": {
           "x": 0.05
          },
          "xaxis": {
           "automargin": true,
           "gridcolor": "white",
           "linecolor": "white",
           "ticks": "",
           "title": {
            "standoff": 15
           },
           "zerolinecolor": "white",
           "zerolinewidth": 2
          },
          "yaxis": {
           "automargin": true,
           "gridcolor": "white",
           "linecolor": "white",
           "ticks": "",
           "title": {
            "standoff": 15
           },
           "zerolinecolor": "white",
           "zerolinewidth": 2
          }
         }
        },
        "width": 700
       }
      }
     },
     "metadata": {},
     "output_type": "display_data"
    }
   ],
   "source": [
    "df = pd.read_csv(\"data/grantham_score_B1_APOBEC.csv\", sep=',')\n",
    "df = df.reset_index()\n",
    "df['parent_aa_FIXED'] = [x+'_observed' for x in df.parent_aa.tolist()]\n",
    "df['child_aa_FIXED'] = [x+'_editing' for x in df.child_aa.tolist()]\n",
    "df1 = df.groupby(['parent_aa_FIXED','child_aa_FIXED', 'grantham_rank_color'])['index'].count().reset_index()\n",
    "df1.columns = ['source','target', 'grantham_rank_color', 'value']\n",
    "df1 = df1.sort_values(by='value', ascending=True)\n",
    "\n",
    "unique_source_target = list(pd.unique(df1[['source','target']].values.ravel('k')))\n",
    "\n",
    "unique_source_target_label = [list(x)[0] for x in unique_source_target]\n",
    "\n",
    "mapping_dict = {k: v for v, k in enumerate(unique_source_target)}\n",
    "#print(mapping_dict)\n",
    "\n",
    "df1['source'] = df1['source'].map(mapping_dict)\n",
    "df1['target'] = df1['target'].map(mapping_dict)\n",
    "#print(df1)\n",
    "\n",
    "new_dict = df1.to_dict(orient='list')\n",
    "#print(new_dict)\n",
    "\n",
    "\n",
    "fig = go.Figure(data=[go.Sankey(\n",
    "    node = dict(\n",
    "        pad = 20,\n",
    "        thickness=30,\n",
    "        line=dict(color='black', width=0.5),\n",
    "        label = unique_source_target_label,\n",
    "        color='#81B29A'\n",
    "    ),\n",
    "    link = dict(\n",
    "        source= new_dict['source'],\n",
    "        target = new_dict['target'],\n",
    "        value = new_dict['value'],\n",
    "        color = new_dict['grantham_rank_color']\n",
    "    )\n",
    "\n",
    ")\n",
    "])\n",
    "#legend={\"yellow\": \"conservative\", \"pink\": \"moderately conservative\", \"dark blue\": \"moderately radical\", \"brown\": \"radical\", \"green\": \"synonymous\"}\n",
    "fig.update_layout(\n",
    "    font_family=\"Arial\",\n",
    "    font_color=\"black\",\n",
    "    font_size=18,\n",
    "    width=700,\n",
    "    height=1000\n",
    ")\n",
    "\n",
    "fig.show()"
   ]
  },
  {
   "cell_type": "code",
   "execution_count": 3,
   "id": "3ed6f26d",
   "metadata": {},
   "outputs": [],
   "source": [
    "outfile = \"plots/fig2C_fixed.html\"\n",
    "fig.write_html(outfile)"
   ]
  },
  {
   "cell_type": "code",
   "execution_count": null,
   "id": "66529ce1",
   "metadata": {},
   "outputs": [],
   "source": []
  }
 ],
 "metadata": {
  "kernelspec": {
   "display_name": "Python 3 (ipykernel)",
   "language": "python",
   "name": "python3"
  },
  "language_info": {
   "codemirror_mode": {
    "name": "ipython",
    "version": 3
   },
   "file_extension": ".py",
   "mimetype": "text/x-python",
   "name": "python",
   "nbconvert_exporter": "python",
   "pygments_lexer": "ipython3",
   "version": "3.12.5"
  }
 },
 "nbformat": 4,
 "nbformat_minor": 5
}
